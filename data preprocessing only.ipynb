{
 "cells": [
  {
   "cell_type": "markdown",
   "metadata": {},
   "source": [
    "##### load and combine all the data in different csv files"
   ]
  },
  {
   "cell_type": "code",
   "execution_count": 71,
   "metadata": {},
   "outputs": [],
   "source": [
    "import pandas as pd\n",
    "\n",
    "data = pd.read_csv('green_tripdata_2018-01.csv')\n",
    "#data1 = pd.read_csv('green_tripdata_2018-02.csv')\n",
    "#data2 = pd.read_csv('green_tripdata_2018-03.csv')\n",
    "#data3 = pd.read_csv('green_tripdata_2018-04.csv')\n",
    "#data4 = pd.read_csv('green_tripdata_2018-05 (1).csv')"
   ]
  },
  {
   "cell_type": "code",
   "execution_count": 72,
   "metadata": {},
   "outputs": [
    {
     "data": {
      "text/plain": [
       "(793529, 19)"
      ]
     },
     "execution_count": 72,
     "metadata": {},
     "output_type": "execute_result"
    }
   ],
   "source": [
    "data.shape"
   ]
  },
  {
   "cell_type": "code",
   "execution_count": 81,
   "metadata": {},
   "outputs": [
    {
     "data": {
      "text/plain": [
       "(797233, 19)"
      ]
     },
     "execution_count": 81,
     "metadata": {},
     "output_type": "execute_result"
    }
   ],
   "source": [
    "data4.shape"
   ]
  },
  {
   "cell_type": "code",
   "execution_count": 82,
   "metadata": {},
   "outputs": [],
   "source": [
    "#merging two dataframes using outerjoin\n",
    "data = pd.merge(data, data4,  how='outer')"
   ]
  },
  {
   "cell_type": "code",
   "execution_count": 83,
   "metadata": {},
   "outputs": [
    {
     "data": {
      "text/plain": [
       "(3997935, 19)"
      ]
     },
     "execution_count": 83,
     "metadata": {},
     "output_type": "execute_result"
    }
   ],
   "source": [
    "data.shape"
   ]
  },
  {
   "cell_type": "code",
   "execution_count": 85,
   "metadata": {},
   "outputs": [],
   "source": [
    "#export to csv while avoiding adding index for exploratoty analysis with Tableau\n",
    "data.to_csv('combinedJantoMay_data.csv', index=False)"
   ]
  },
  {
   "cell_type": "code",
   "execution_count": null,
   "metadata": {},
   "outputs": [],
   "source": [
    "#data.append(data4, ignore_index=True) #can only be used for appending 2 dataframes"
   ]
  },
  {
   "cell_type": "code",
   "execution_count": 159,
   "metadata": {},
   "outputs": [
    {
     "data": {
      "text/plain": [
       "(3997935, 19)"
      ]
     },
     "execution_count": 159,
     "metadata": {},
     "output_type": "execute_result"
    }
   ],
   "source": [
    "#reload combinedJantoMay_data.csv\n",
    "#big choose if required\n",
    "data = pd.read_csv('combinedJantoMay_data.csv')\n",
    "data.shape #head, tail, etc"
   ]
  },
  {
   "cell_type": "code",
   "execution_count": 160,
   "metadata": {},
   "outputs": [],
   "source": [
    "#convert string to datetime for converting date and time to date only\n",
    "data[\"lpep_pickup_datetime\"] = pd.to_datetime(data[\"lpep_pickup_datetime\"])\n",
    "data[\"lpep_dropoff_datetime\"] = pd.to_datetime(data[\"lpep_dropoff_datetime\"])"
   ]
  },
  {
   "cell_type": "code",
   "execution_count": 161,
   "metadata": {},
   "outputs": [],
   "source": [
    "#rename a column 'lpep_pickup_datetime' to 'pickup_date'\n",
    "data.rename(columns = {'lpep_pickup_datetime':'pickup_date'}, inplace = True)\n",
    "data.rename(columns = {'lpep_dropoff_datetime':'dropoff_date'}, inplace = True)"
   ]
  },
  {
   "cell_type": "code",
   "execution_count": 162,
   "metadata": {},
   "outputs": [],
   "source": [
    "#convert the datetime into weekday_name, pickuphour,month \n",
    "#this will create more features for data to train on\n",
    "data[\"pickup_dayofweek\"] = data.pickup_date.dt.dayofweek\n",
    "data[\"pickup_weekday\"] = data.pickup_date.dt.weekday_name\n",
    "#data[\"pickup_hour\"] = data.pickup_date.dt.hour\n",
    "data[\"pickup_month\"] = data.pickup_date.dt.month"
   ]
  },
  {
   "cell_type": "code",
   "execution_count": 163,
   "metadata": {},
   "outputs": [],
   "source": [
    "#converting date and time to date only\n",
    "data['pickup_date'] = data['pickup_date'].dt.date\n",
    "data['dropoff_date'] = data['dropoff_date'].dt.date"
   ]
  },
  {
   "cell_type": "code",
   "execution_count": 164,
   "metadata": {},
   "outputs": [
    {
     "data": {
      "text/plain": [
       "(3997935, 22)"
      ]
     },
     "execution_count": 164,
     "metadata": {},
     "output_type": "execute_result"
    }
   ],
   "source": [
    "data.shape\n",
    "#data.tail()"
   ]
  },
  {
   "cell_type": "code",
   "execution_count": null,
   "metadata": {},
   "outputs": [],
   "source": [
    "#### could add a step here to remove all the entries outside jan and May that are wrongly entered into the database."
   ]
  },
  {
   "cell_type": "code",
   "execution_count": 165,
   "metadata": {},
   "outputs": [],
   "source": [
    "import numpy as np\n",
    "#data.clip(lower=0) #replaces all negatives with zeros\n",
    "\n",
    "#convert all missing values to NaN\n",
    "#data.replace('0', np.NaN)"
   ]
  },
  {
   "cell_type": "code",
   "execution_count": null,
   "metadata": {},
   "outputs": [],
   "source": [
    "#check which are the columns in the dataset that has NaN\n",
    "#data.loc[data['PULocationID'] == 'NaN']"
   ]
  },
  {
   "cell_type": "code",
   "execution_count": 14,
   "metadata": {},
   "outputs": [],
   "source": [
    "#handle missing data by filling with the mean of the values in the column the dats belongs to\n",
    "#from sklearn.preprocessing import Imputer #imputer takes care of missing data\n",
    "# mean can be replaced with most_frequent or median, axis 0 for mean of column values\n",
    "#imputer = Imputer(missingvalues='NaN', strategy ='mean', axis = 0) \n",
    "#imputer = imputer.fit(df[:, name of column with NaN])\n",
    "#X[df[:, name of column with NaN or column numbers if together]] = imputer.transform(df[:, name of column with NaN])"
   ]
  },
  {
   "cell_type": "code",
   "execution_count": null,
   "metadata": {},
   "outputs": [],
   "source": [
    "#scikitlearn removes the header of the columns and incase we need to reinstate the column headers.\n",
    "#X_imputed can be any processed df\n",
    "#X_imputed_df = pd.DataFrame(X_imputed, columns = X_train.columns)"
   ]
  },
  {
   "cell_type": "markdown",
   "metadata": {},
   "source": [
    "### grouping data"
   ]
  },
  {
   "cell_type": "code",
   "execution_count": 166,
   "metadata": {},
   "outputs": [],
   "source": [
    "#group by pickup location, hour of day, month, day of month, weekday, day of week, and triptype and sum the passenger_count, trip_distance, fare_amount and tip_amount\n",
    "f = {'passenger_count': 'sum', 'trip_distance': 'sum', 'fare_amount': 'sum', 'tip_amount': 'sum'}\n",
    "working_data = data.groupby(['PULocationID', 'pickup_date', 'pickup_month','pickup_weekday', 'trip_type'], as_index=False).agg(f)"
   ]
  },
  {
   "cell_type": "code",
   "execution_count": 167,
   "metadata": {},
   "outputs": [
    {
     "data": {
      "text/plain": [
       "(46724, 9)"
      ]
     },
     "execution_count": 167,
     "metadata": {},
     "output_type": "execute_result"
    }
   ],
   "source": [
    "#working_data.head()\n",
    "working_data.shape"
   ]
  },
  {
   "cell_type": "code",
   "execution_count": null,
   "metadata": {},
   "outputs": [],
   "source": []
  },
  {
   "cell_type": "code",
   "execution_count": 168,
   "metadata": {},
   "outputs": [],
   "source": [
    "##************do data cleanup before grouping\n",
    "#group by pickup location, hour of day, month, day of month, weekday, day of week, and triptype and count the number of pick ups\n",
    "pickup_data = data.groupby(['PULocationID', 'pickup_date','pickup_month','pickup_weekday', 'trip_type'], as_index=False).size().reset_index(name='pickupcounts')"
   ]
  },
  {
   "cell_type": "code",
   "execution_count": 169,
   "metadata": {},
   "outputs": [
    {
     "data": {
      "text/plain": [
       "(46724, 6)"
      ]
     },
     "execution_count": 169,
     "metadata": {},
     "output_type": "execute_result"
    }
   ],
   "source": [
    "pickup_data.shape"
   ]
  },
  {
   "cell_type": "code",
   "execution_count": 170,
   "metadata": {},
   "outputs": [],
   "source": [
    "#since they both have the same index the pickupcounts column from the pickup_data dataframe can be added to the working data dataframe at the end\n",
    "working_data['pickupcounts'] = pickup_data['pickupcounts']"
   ]
  },
  {
   "cell_type": "code",
   "execution_count": 171,
   "metadata": {},
   "outputs": [
    {
     "data": {
      "text/html": [
       "<div>\n",
       "<style scoped>\n",
       "    .dataframe tbody tr th:only-of-type {\n",
       "        vertical-align: middle;\n",
       "    }\n",
       "\n",
       "    .dataframe tbody tr th {\n",
       "        vertical-align: top;\n",
       "    }\n",
       "\n",
       "    .dataframe thead th {\n",
       "        text-align: right;\n",
       "    }\n",
       "</style>\n",
       "<table border=\"1\" class=\"dataframe\">\n",
       "  <thead>\n",
       "    <tr style=\"text-align: right;\">\n",
       "      <th></th>\n",
       "      <th>PULocationID</th>\n",
       "      <th>pickup_date</th>\n",
       "      <th>pickup_month</th>\n",
       "      <th>pickup_weekday</th>\n",
       "      <th>trip_type</th>\n",
       "      <th>passenger_count</th>\n",
       "      <th>trip_distance</th>\n",
       "      <th>fare_amount</th>\n",
       "      <th>tip_amount</th>\n",
       "      <th>pickupcounts</th>\n",
       "    </tr>\n",
       "  </thead>\n",
       "  <tbody>\n",
       "    <tr>\n",
       "      <th>0</th>\n",
       "      <td>1</td>\n",
       "      <td>2018-01-01</td>\n",
       "      <td>1</td>\n",
       "      <td>Monday</td>\n",
       "      <td>2.0</td>\n",
       "      <td>1</td>\n",
       "      <td>0.0</td>\n",
       "      <td>88.0</td>\n",
       "      <td>5.00</td>\n",
       "      <td>1</td>\n",
       "    </tr>\n",
       "    <tr>\n",
       "      <th>1</th>\n",
       "      <td>1</td>\n",
       "      <td>2018-01-02</td>\n",
       "      <td>1</td>\n",
       "      <td>Tuesday</td>\n",
       "      <td>1.0</td>\n",
       "      <td>1</td>\n",
       "      <td>15.7</td>\n",
       "      <td>61.5</td>\n",
       "      <td>18.82</td>\n",
       "      <td>1</td>\n",
       "    </tr>\n",
       "    <tr>\n",
       "      <th>2</th>\n",
       "      <td>1</td>\n",
       "      <td>2018-01-03</td>\n",
       "      <td>1</td>\n",
       "      <td>Wednesday</td>\n",
       "      <td>2.0</td>\n",
       "      <td>2</td>\n",
       "      <td>0.0</td>\n",
       "      <td>272.5</td>\n",
       "      <td>0.00</td>\n",
       "      <td>2</td>\n",
       "    </tr>\n",
       "    <tr>\n",
       "      <th>3</th>\n",
       "      <td>1</td>\n",
       "      <td>2018-01-07</td>\n",
       "      <td>1</td>\n",
       "      <td>Sunday</td>\n",
       "      <td>1.0</td>\n",
       "      <td>1</td>\n",
       "      <td>0.0</td>\n",
       "      <td>2.5</td>\n",
       "      <td>55.00</td>\n",
       "      <td>1</td>\n",
       "    </tr>\n",
       "    <tr>\n",
       "      <th>4</th>\n",
       "      <td>1</td>\n",
       "      <td>2018-01-08</td>\n",
       "      <td>1</td>\n",
       "      <td>Monday</td>\n",
       "      <td>2.0</td>\n",
       "      <td>6</td>\n",
       "      <td>0.0</td>\n",
       "      <td>143.0</td>\n",
       "      <td>15.60</td>\n",
       "      <td>2</td>\n",
       "    </tr>\n",
       "  </tbody>\n",
       "</table>\n",
       "</div>"
      ],
      "text/plain": [
       "   PULocationID pickup_date  pickup_month pickup_weekday  trip_type  \\\n",
       "0             1  2018-01-01             1         Monday        2.0   \n",
       "1             1  2018-01-02             1        Tuesday        1.0   \n",
       "2             1  2018-01-03             1      Wednesday        2.0   \n",
       "3             1  2018-01-07             1         Sunday        1.0   \n",
       "4             1  2018-01-08             1         Monday        2.0   \n",
       "\n",
       "   passenger_count  trip_distance  fare_amount  tip_amount  pickupcounts  \n",
       "0                1            0.0         88.0        5.00             1  \n",
       "1                1           15.7         61.5       18.82             1  \n",
       "2                2            0.0        272.5        0.00             2  \n",
       "3                1            0.0          2.5       55.00             1  \n",
       "4                6            0.0        143.0       15.60             2  "
      ]
     },
     "execution_count": 171,
     "metadata": {},
     "output_type": "execute_result"
    }
   ],
   "source": [
    "working_data.head()\n",
    "#working_data.shape"
   ]
  },
  {
   "cell_type": "code",
   "execution_count": 172,
   "metadata": {},
   "outputs": [],
   "source": [
    "#convert trip_type from 1 and 2 to dispatch and street_hail\n",
    "working_data['trip_type'] = working_data['trip_type'].map({1.0: 'Street_hail', 2.0: 'Dispatch'})"
   ]
  },
  {
   "cell_type": "code",
   "execution_count": 213,
   "metadata": {},
   "outputs": [
    {
     "data": {
      "text/html": [
       "<div>\n",
       "<style scoped>\n",
       "    .dataframe tbody tr th:only-of-type {\n",
       "        vertical-align: middle;\n",
       "    }\n",
       "\n",
       "    .dataframe tbody tr th {\n",
       "        vertical-align: top;\n",
       "    }\n",
       "\n",
       "    .dataframe thead th {\n",
       "        text-align: right;\n",
       "    }\n",
       "</style>\n",
       "<table border=\"1\" class=\"dataframe\">\n",
       "  <thead>\n",
       "    <tr style=\"text-align: right;\">\n",
       "      <th></th>\n",
       "      <th>PULocationID</th>\n",
       "      <th>pickup_date</th>\n",
       "      <th>pickup_month</th>\n",
       "      <th>pickup_weekday</th>\n",
       "      <th>trip_type</th>\n",
       "      <th>passenger_count</th>\n",
       "      <th>trip_distance</th>\n",
       "      <th>fare_amount</th>\n",
       "      <th>tip_amount</th>\n",
       "      <th>pickupcounts</th>\n",
       "    </tr>\n",
       "  </thead>\n",
       "  <tbody>\n",
       "    <tr>\n",
       "      <th>46719</th>\n",
       "      <td>265</td>\n",
       "      <td>2018-05-29</td>\n",
       "      <td>5</td>\n",
       "      <td>Tuesday</td>\n",
       "      <td>Street_hail</td>\n",
       "      <td>4</td>\n",
       "      <td>28.27</td>\n",
       "      <td>103.0</td>\n",
       "      <td>1.16</td>\n",
       "      <td>4</td>\n",
       "    </tr>\n",
       "    <tr>\n",
       "      <th>46720</th>\n",
       "      <td>265</td>\n",
       "      <td>2018-05-29</td>\n",
       "      <td>5</td>\n",
       "      <td>Tuesday</td>\n",
       "      <td>Dispatch</td>\n",
       "      <td>4</td>\n",
       "      <td>0.96</td>\n",
       "      <td>258.0</td>\n",
       "      <td>14.40</td>\n",
       "      <td>3</td>\n",
       "    </tr>\n",
       "    <tr>\n",
       "      <th>46721</th>\n",
       "      <td>265</td>\n",
       "      <td>2018-05-30</td>\n",
       "      <td>5</td>\n",
       "      <td>Wednesday</td>\n",
       "      <td>Street_hail</td>\n",
       "      <td>2</td>\n",
       "      <td>0.20</td>\n",
       "      <td>3.0</td>\n",
       "      <td>0.00</td>\n",
       "      <td>1</td>\n",
       "    </tr>\n",
       "    <tr>\n",
       "      <th>46722</th>\n",
       "      <td>265</td>\n",
       "      <td>2018-05-30</td>\n",
       "      <td>5</td>\n",
       "      <td>Wednesday</td>\n",
       "      <td>Dispatch</td>\n",
       "      <td>2</td>\n",
       "      <td>39.20</td>\n",
       "      <td>20.0</td>\n",
       "      <td>0.00</td>\n",
       "      <td>2</td>\n",
       "    </tr>\n",
       "    <tr>\n",
       "      <th>46723</th>\n",
       "      <td>265</td>\n",
       "      <td>2018-05-31</td>\n",
       "      <td>5</td>\n",
       "      <td>Thursday</td>\n",
       "      <td>Dispatch</td>\n",
       "      <td>2</td>\n",
       "      <td>0.20</td>\n",
       "      <td>81.0</td>\n",
       "      <td>13.00</td>\n",
       "      <td>2</td>\n",
       "    </tr>\n",
       "  </tbody>\n",
       "</table>\n",
       "</div>"
      ],
      "text/plain": [
       "       PULocationID pickup_date  pickup_month pickup_weekday    trip_type  \\\n",
       "46719           265  2018-05-29             5        Tuesday  Street_hail   \n",
       "46720           265  2018-05-29             5        Tuesday     Dispatch   \n",
       "46721           265  2018-05-30             5      Wednesday  Street_hail   \n",
       "46722           265  2018-05-30             5      Wednesday     Dispatch   \n",
       "46723           265  2018-05-31             5       Thursday     Dispatch   \n",
       "\n",
       "       passenger_count  trip_distance  fare_amount  tip_amount  pickupcounts  \n",
       "46719                4          28.27        103.0        1.16             4  \n",
       "46720                4           0.96        258.0       14.40             3  \n",
       "46721                2           0.20          3.0        0.00             1  \n",
       "46722                2          39.20         20.0        0.00             2  \n",
       "46723                2           0.20         81.0       13.00             2  "
      ]
     },
     "execution_count": 213,
     "metadata": {},
     "output_type": "execute_result"
    }
   ],
   "source": [
    "working_data.tail()"
   ]
  },
  {
   "cell_type": "code",
   "execution_count": 174,
   "metadata": {},
   "outputs": [],
   "source": [
    "#export csv while avoiding adding index while exporting to csv for exploratory analysis with Tableau\n",
    "working_data.to_csv('working_data.csv', index=False)"
   ]
  },
  {
   "cell_type": "code",
   "execution_count": 176,
   "metadata": {},
   "outputs": [
    {
     "data": {
      "text/plain": [
       "(46724, 10)"
      ]
     },
     "execution_count": 176,
     "metadata": {},
     "output_type": "execute_result"
    }
   ],
   "source": [
    "#working_data.head()\n",
    "working_data.shape"
   ]
  },
  {
   "cell_type": "markdown",
   "metadata": {},
   "source": [
    "##### if needed also try with aggregating based on id/month/week/counts\n"
   ]
  },
  {
   "cell_type": "code",
   "execution_count": 211,
   "metadata": {},
   "outputs": [],
   "source": [
    "##########goto tableau, open working_data and join with locationinfo also change the format of date such as 1/1/2018\n",
    "####caution*** \n",
    "model_data = pd.read_csv('working_data.csv')"
   ]
  },
  {
   "cell_type": "code",
   "execution_count": 212,
   "metadata": {},
   "outputs": [
    {
     "data": {
      "text/html": [
       "<div>\n",
       "<style scoped>\n",
       "    .dataframe tbody tr th:only-of-type {\n",
       "        vertical-align: middle;\n",
       "    }\n",
       "\n",
       "    .dataframe tbody tr th {\n",
       "        vertical-align: top;\n",
       "    }\n",
       "\n",
       "    .dataframe thead th {\n",
       "        text-align: right;\n",
       "    }\n",
       "</style>\n",
       "<table border=\"1\" class=\"dataframe\">\n",
       "  <thead>\n",
       "    <tr style=\"text-align: right;\">\n",
       "      <th></th>\n",
       "      <th>PULocationID</th>\n",
       "      <th>pickup_date</th>\n",
       "      <th>pickup_month</th>\n",
       "      <th>pickup_weekday</th>\n",
       "      <th>trip_type</th>\n",
       "      <th>passenger_count</th>\n",
       "      <th>trip_distance</th>\n",
       "      <th>fare_amount</th>\n",
       "      <th>tip_amount</th>\n",
       "      <th>pickupcounts</th>\n",
       "    </tr>\n",
       "  </thead>\n",
       "  <tbody>\n",
       "    <tr>\n",
       "      <th>46719</th>\n",
       "      <td>265</td>\n",
       "      <td>2018-05-29</td>\n",
       "      <td>5</td>\n",
       "      <td>Tuesday</td>\n",
       "      <td>Street_hail</td>\n",
       "      <td>4</td>\n",
       "      <td>28.27</td>\n",
       "      <td>103.0</td>\n",
       "      <td>1.16</td>\n",
       "      <td>4</td>\n",
       "    </tr>\n",
       "    <tr>\n",
       "      <th>46720</th>\n",
       "      <td>265</td>\n",
       "      <td>2018-05-29</td>\n",
       "      <td>5</td>\n",
       "      <td>Tuesday</td>\n",
       "      <td>Dispatch</td>\n",
       "      <td>4</td>\n",
       "      <td>0.96</td>\n",
       "      <td>258.0</td>\n",
       "      <td>14.40</td>\n",
       "      <td>3</td>\n",
       "    </tr>\n",
       "    <tr>\n",
       "      <th>46721</th>\n",
       "      <td>265</td>\n",
       "      <td>2018-05-30</td>\n",
       "      <td>5</td>\n",
       "      <td>Wednesday</td>\n",
       "      <td>Street_hail</td>\n",
       "      <td>2</td>\n",
       "      <td>0.20</td>\n",
       "      <td>3.0</td>\n",
       "      <td>0.00</td>\n",
       "      <td>1</td>\n",
       "    </tr>\n",
       "    <tr>\n",
       "      <th>46722</th>\n",
       "      <td>265</td>\n",
       "      <td>2018-05-30</td>\n",
       "      <td>5</td>\n",
       "      <td>Wednesday</td>\n",
       "      <td>Dispatch</td>\n",
       "      <td>2</td>\n",
       "      <td>39.20</td>\n",
       "      <td>20.0</td>\n",
       "      <td>0.00</td>\n",
       "      <td>2</td>\n",
       "    </tr>\n",
       "    <tr>\n",
       "      <th>46723</th>\n",
       "      <td>265</td>\n",
       "      <td>2018-05-31</td>\n",
       "      <td>5</td>\n",
       "      <td>Thursday</td>\n",
       "      <td>Dispatch</td>\n",
       "      <td>2</td>\n",
       "      <td>0.20</td>\n",
       "      <td>81.0</td>\n",
       "      <td>13.00</td>\n",
       "      <td>2</td>\n",
       "    </tr>\n",
       "  </tbody>\n",
       "</table>\n",
       "</div>"
      ],
      "text/plain": [
       "       PULocationID pickup_date  pickup_month pickup_weekday    trip_type  \\\n",
       "46719           265  2018-05-29             5        Tuesday  Street_hail   \n",
       "46720           265  2018-05-29             5        Tuesday     Dispatch   \n",
       "46721           265  2018-05-30             5      Wednesday  Street_hail   \n",
       "46722           265  2018-05-30             5      Wednesday     Dispatch   \n",
       "46723           265  2018-05-31             5       Thursday     Dispatch   \n",
       "\n",
       "       passenger_count  trip_distance  fare_amount  tip_amount  pickupcounts  \n",
       "46719                4          28.27        103.0        1.16             4  \n",
       "46720                4           0.96        258.0       14.40             3  \n",
       "46721                2           0.20          3.0        0.00             1  \n",
       "46722                2          39.20         20.0        0.00             2  \n",
       "46723                2           0.20         81.0       13.00             2  "
      ]
     },
     "execution_count": 212,
     "metadata": {},
     "output_type": "execute_result"
    }
   ],
   "source": [
    "model_data.tail()\n",
    "#model_data.shape"
   ]
  },
  {
   "cell_type": "code",
   "execution_count": 215,
   "metadata": {},
   "outputs": [],
   "source": [
    "#convert string to datetime for converting date and time to date only\n",
    "data[\"pickup_date\"] = pd.to_datetime(data[\"pickup_date\"])"
   ]
  },
  {
   "cell_type": "code",
   "execution_count": 216,
   "metadata": {},
   "outputs": [
    {
     "data": {
      "text/html": [
       "<div>\n",
       "<style scoped>\n",
       "    .dataframe tbody tr th:only-of-type {\n",
       "        vertical-align: middle;\n",
       "    }\n",
       "\n",
       "    .dataframe tbody tr th {\n",
       "        vertical-align: top;\n",
       "    }\n",
       "\n",
       "    .dataframe thead th {\n",
       "        text-align: right;\n",
       "    }\n",
       "</style>\n",
       "<table border=\"1\" class=\"dataframe\">\n",
       "  <thead>\n",
       "    <tr style=\"text-align: right;\">\n",
       "      <th></th>\n",
       "      <th>PULocationID</th>\n",
       "      <th>pickup_date</th>\n",
       "      <th>pickup_month</th>\n",
       "      <th>pickup_weekday</th>\n",
       "      <th>trip_type</th>\n",
       "      <th>passenger_count</th>\n",
       "      <th>trip_distance</th>\n",
       "      <th>fare_amount</th>\n",
       "      <th>tip_amount</th>\n",
       "      <th>pickupcounts</th>\n",
       "    </tr>\n",
       "  </thead>\n",
       "  <tbody>\n",
       "    <tr>\n",
       "      <th>46719</th>\n",
       "      <td>265</td>\n",
       "      <td>2018-05-29</td>\n",
       "      <td>5</td>\n",
       "      <td>Tuesday</td>\n",
       "      <td>Street_hail</td>\n",
       "      <td>4</td>\n",
       "      <td>28.27</td>\n",
       "      <td>103.0</td>\n",
       "      <td>1.16</td>\n",
       "      <td>4</td>\n",
       "    </tr>\n",
       "    <tr>\n",
       "      <th>46720</th>\n",
       "      <td>265</td>\n",
       "      <td>2018-05-29</td>\n",
       "      <td>5</td>\n",
       "      <td>Tuesday</td>\n",
       "      <td>Dispatch</td>\n",
       "      <td>4</td>\n",
       "      <td>0.96</td>\n",
       "      <td>258.0</td>\n",
       "      <td>14.40</td>\n",
       "      <td>3</td>\n",
       "    </tr>\n",
       "    <tr>\n",
       "      <th>46721</th>\n",
       "      <td>265</td>\n",
       "      <td>2018-05-30</td>\n",
       "      <td>5</td>\n",
       "      <td>Wednesday</td>\n",
       "      <td>Street_hail</td>\n",
       "      <td>2</td>\n",
       "      <td>0.20</td>\n",
       "      <td>3.0</td>\n",
       "      <td>0.00</td>\n",
       "      <td>1</td>\n",
       "    </tr>\n",
       "    <tr>\n",
       "      <th>46722</th>\n",
       "      <td>265</td>\n",
       "      <td>2018-05-30</td>\n",
       "      <td>5</td>\n",
       "      <td>Wednesday</td>\n",
       "      <td>Dispatch</td>\n",
       "      <td>2</td>\n",
       "      <td>39.20</td>\n",
       "      <td>20.0</td>\n",
       "      <td>0.00</td>\n",
       "      <td>2</td>\n",
       "    </tr>\n",
       "    <tr>\n",
       "      <th>46723</th>\n",
       "      <td>265</td>\n",
       "      <td>2018-05-31</td>\n",
       "      <td>5</td>\n",
       "      <td>Thursday</td>\n",
       "      <td>Dispatch</td>\n",
       "      <td>2</td>\n",
       "      <td>0.20</td>\n",
       "      <td>81.0</td>\n",
       "      <td>13.00</td>\n",
       "      <td>2</td>\n",
       "    </tr>\n",
       "  </tbody>\n",
       "</table>\n",
       "</div>"
      ],
      "text/plain": [
       "       PULocationID pickup_date  pickup_month pickup_weekday    trip_type  \\\n",
       "46719           265  2018-05-29             5        Tuesday  Street_hail   \n",
       "46720           265  2018-05-29             5        Tuesday     Dispatch   \n",
       "46721           265  2018-05-30             5      Wednesday  Street_hail   \n",
       "46722           265  2018-05-30             5      Wednesday     Dispatch   \n",
       "46723           265  2018-05-31             5       Thursday     Dispatch   \n",
       "\n",
       "       passenger_count  trip_distance  fare_amount  tip_amount  pickupcounts  \n",
       "46719                4          28.27        103.0        1.16             4  \n",
       "46720                4           0.96        258.0       14.40             3  \n",
       "46721                2           0.20          3.0        0.00             1  \n",
       "46722                2          39.20         20.0        0.00             2  \n",
       "46723                2           0.20         81.0       13.00             2  "
      ]
     },
     "execution_count": 216,
     "metadata": {},
     "output_type": "execute_result"
    }
   ],
   "source": [
    "model_data.tail()"
   ]
  },
  {
   "cell_type": "code",
   "execution_count": 222,
   "metadata": {},
   "outputs": [],
   "source": [
    "############try using start='2017-12-31', end='2018-12-31' to fix the error due to single digits\n",
    "###for detecting holidays\n",
    "#remember to convert the date format using tableau meanwhile also join with location details\n",
    "import pandas as pd\n",
    "from pandas.tseries.holiday import USFederalHolidayCalendar as calendar\n",
    "cal = calendar()\n",
    "holidays = cal.holidays(start='2018-1-1', end='2018-5-31')\n",
    "\n",
    "model_data['holiday'] = model_data['pickup_date'].isin(holidays)"
   ]
  },
  {
   "cell_type": "code",
   "execution_count": 225,
   "metadata": {},
   "outputs": [],
   "source": [
    "#manually change federal holidays to true\n",
    "model_data['holiday'] = np.where(model_data['pickup_date']=='2018-01-01', 'True', model_data['holiday'])"
   ]
  },
  {
   "cell_type": "code",
   "execution_count": 227,
   "metadata": {},
   "outputs": [],
   "source": [
    "model_data['holiday'] = np.where(model_data['pickup_date']=='2018-01-15', 'True', model_data['holiday'])"
   ]
  },
  {
   "cell_type": "code",
   "execution_count": 228,
   "metadata": {},
   "outputs": [],
   "source": [
    "model_data['holiday'] = np.where(model_data['pickup_date']=='2018-02-19', 'True', model_data['holiday'])"
   ]
  },
  {
   "cell_type": "code",
   "execution_count": 229,
   "metadata": {},
   "outputs": [],
   "source": [
    "model_data['holiday'] = np.where(model_data['pickup_date']=='2018-05-28', 'True', model_data['holiday'])"
   ]
  },
  {
   "cell_type": "code",
   "execution_count": 230,
   "metadata": {},
   "outputs": [
    {
     "data": {
      "text/html": [
       "<div>\n",
       "<style scoped>\n",
       "    .dataframe tbody tr th:only-of-type {\n",
       "        vertical-align: middle;\n",
       "    }\n",
       "\n",
       "    .dataframe tbody tr th {\n",
       "        vertical-align: top;\n",
       "    }\n",
       "\n",
       "    .dataframe thead th {\n",
       "        text-align: right;\n",
       "    }\n",
       "</style>\n",
       "<table border=\"1\" class=\"dataframe\">\n",
       "  <thead>\n",
       "    <tr style=\"text-align: right;\">\n",
       "      <th></th>\n",
       "      <th>PULocationID</th>\n",
       "      <th>pickup_date</th>\n",
       "      <th>pickup_month</th>\n",
       "      <th>pickup_weekday</th>\n",
       "      <th>trip_type</th>\n",
       "      <th>passenger_count</th>\n",
       "      <th>trip_distance</th>\n",
       "      <th>fare_amount</th>\n",
       "      <th>tip_amount</th>\n",
       "      <th>pickupcounts</th>\n",
       "      <th>holiday</th>\n",
       "    </tr>\n",
       "  </thead>\n",
       "  <tbody>\n",
       "    <tr>\n",
       "      <th>0</th>\n",
       "      <td>1</td>\n",
       "      <td>2018-01-01</td>\n",
       "      <td>1</td>\n",
       "      <td>Monday</td>\n",
       "      <td>Dispatch</td>\n",
       "      <td>1</td>\n",
       "      <td>0.0</td>\n",
       "      <td>88.0</td>\n",
       "      <td>5.00</td>\n",
       "      <td>1</td>\n",
       "      <td>True</td>\n",
       "    </tr>\n",
       "    <tr>\n",
       "      <th>1</th>\n",
       "      <td>1</td>\n",
       "      <td>2018-01-02</td>\n",
       "      <td>1</td>\n",
       "      <td>Tuesday</td>\n",
       "      <td>Street_hail</td>\n",
       "      <td>1</td>\n",
       "      <td>15.7</td>\n",
       "      <td>61.5</td>\n",
       "      <td>18.82</td>\n",
       "      <td>1</td>\n",
       "      <td>False</td>\n",
       "    </tr>\n",
       "    <tr>\n",
       "      <th>2</th>\n",
       "      <td>1</td>\n",
       "      <td>2018-01-03</td>\n",
       "      <td>1</td>\n",
       "      <td>Wednesday</td>\n",
       "      <td>Dispatch</td>\n",
       "      <td>2</td>\n",
       "      <td>0.0</td>\n",
       "      <td>272.5</td>\n",
       "      <td>0.00</td>\n",
       "      <td>2</td>\n",
       "      <td>False</td>\n",
       "    </tr>\n",
       "    <tr>\n",
       "      <th>3</th>\n",
       "      <td>1</td>\n",
       "      <td>2018-01-07</td>\n",
       "      <td>1</td>\n",
       "      <td>Sunday</td>\n",
       "      <td>Street_hail</td>\n",
       "      <td>1</td>\n",
       "      <td>0.0</td>\n",
       "      <td>2.5</td>\n",
       "      <td>55.00</td>\n",
       "      <td>1</td>\n",
       "      <td>False</td>\n",
       "    </tr>\n",
       "    <tr>\n",
       "      <th>4</th>\n",
       "      <td>1</td>\n",
       "      <td>2018-01-08</td>\n",
       "      <td>1</td>\n",
       "      <td>Monday</td>\n",
       "      <td>Dispatch</td>\n",
       "      <td>6</td>\n",
       "      <td>0.0</td>\n",
       "      <td>143.0</td>\n",
       "      <td>15.60</td>\n",
       "      <td>2</td>\n",
       "      <td>False</td>\n",
       "    </tr>\n",
       "  </tbody>\n",
       "</table>\n",
       "</div>"
      ],
      "text/plain": [
       "   PULocationID pickup_date  pickup_month pickup_weekday    trip_type  \\\n",
       "0             1  2018-01-01             1         Monday     Dispatch   \n",
       "1             1  2018-01-02             1        Tuesday  Street_hail   \n",
       "2             1  2018-01-03             1      Wednesday     Dispatch   \n",
       "3             1  2018-01-07             1         Sunday  Street_hail   \n",
       "4             1  2018-01-08             1         Monday     Dispatch   \n",
       "\n",
       "   passenger_count  trip_distance  fare_amount  tip_amount  pickupcounts  \\\n",
       "0                1            0.0         88.0        5.00             1   \n",
       "1                1           15.7         61.5       18.82             1   \n",
       "2                2            0.0        272.5        0.00             2   \n",
       "3                1            0.0          2.5       55.00             1   \n",
       "4                6            0.0        143.0       15.60             2   \n",
       "\n",
       "  holiday  \n",
       "0    True  \n",
       "1   False  \n",
       "2   False  \n",
       "3   False  \n",
       "4   False  "
      ]
     },
     "execution_count": 230,
     "metadata": {},
     "output_type": "execute_result"
    }
   ],
   "source": [
    "model_data.head()"
   ]
  },
  {
   "cell_type": "code",
   "execution_count": 232,
   "metadata": {},
   "outputs": [],
   "source": [
    "model_data.to_csv('model_data.csv', index=False)"
   ]
  },
  {
   "cell_type": "code",
   "execution_count": 209,
   "metadata": {},
   "outputs": [],
   "source": [
    "###open model_data \n",
    "#model_data = pd.read_csv('model_data.csv')"
   ]
  },
  {
   "cell_type": "code",
   "execution_count": 242,
   "metadata": {},
   "outputs": [
    {
     "data": {
      "text/plain": [
       "(46724, 11)"
      ]
     },
     "execution_count": 242,
     "metadata": {},
     "output_type": "execute_result"
    }
   ],
   "source": [
    "#model_data.tail()\n",
    "model_data.shape"
   ]
  },
  {
   "cell_type": "code",
   "execution_count": 234,
   "metadata": {},
   "outputs": [],
   "source": [
    "#merging two dataframes using innerjoin to join locationid details and the data\n",
    "locationid_data = pd.read_csv('taxi _zone_lookup.csv')"
   ]
  },
  {
   "cell_type": "code",
   "execution_count": 237,
   "metadata": {},
   "outputs": [
    {
     "data": {
      "text/html": [
       "<div>\n",
       "<style scoped>\n",
       "    .dataframe tbody tr th:only-of-type {\n",
       "        vertical-align: middle;\n",
       "    }\n",
       "\n",
       "    .dataframe tbody tr th {\n",
       "        vertical-align: top;\n",
       "    }\n",
       "\n",
       "    .dataframe thead th {\n",
       "        text-align: right;\n",
       "    }\n",
       "</style>\n",
       "<table border=\"1\" class=\"dataframe\">\n",
       "  <thead>\n",
       "    <tr style=\"text-align: right;\">\n",
       "      <th></th>\n",
       "      <th>LocationID</th>\n",
       "      <th>Borough</th>\n",
       "      <th>Zone</th>\n",
       "      <th>service_zone</th>\n",
       "    </tr>\n",
       "  </thead>\n",
       "  <tbody>\n",
       "    <tr>\n",
       "      <th>0</th>\n",
       "      <td>1</td>\n",
       "      <td>EWR</td>\n",
       "      <td>Newark Airport</td>\n",
       "      <td>EWR</td>\n",
       "    </tr>\n",
       "    <tr>\n",
       "      <th>1</th>\n",
       "      <td>2</td>\n",
       "      <td>Queens</td>\n",
       "      <td>Jamaica Bay</td>\n",
       "      <td>Boro Zone</td>\n",
       "    </tr>\n",
       "    <tr>\n",
       "      <th>2</th>\n",
       "      <td>3</td>\n",
       "      <td>Bronx</td>\n",
       "      <td>Allerton/Pelham Gardens</td>\n",
       "      <td>Boro Zone</td>\n",
       "    </tr>\n",
       "    <tr>\n",
       "      <th>3</th>\n",
       "      <td>4</td>\n",
       "      <td>Manhattan</td>\n",
       "      <td>Alphabet City</td>\n",
       "      <td>Yellow Zone</td>\n",
       "    </tr>\n",
       "    <tr>\n",
       "      <th>4</th>\n",
       "      <td>5</td>\n",
       "      <td>Staten Island</td>\n",
       "      <td>Arden Heights</td>\n",
       "      <td>Boro Zone</td>\n",
       "    </tr>\n",
       "  </tbody>\n",
       "</table>\n",
       "</div>"
      ],
      "text/plain": [
       "   LocationID        Borough                     Zone service_zone\n",
       "0           1            EWR           Newark Airport          EWR\n",
       "1           2         Queens              Jamaica Bay    Boro Zone\n",
       "2           3          Bronx  Allerton/Pelham Gardens    Boro Zone\n",
       "3           4      Manhattan            Alphabet City  Yellow Zone\n",
       "4           5  Staten Island            Arden Heights    Boro Zone"
      ]
     },
     "execution_count": 237,
     "metadata": {},
     "output_type": "execute_result"
    }
   ],
   "source": [
    "locationid_data.head()"
   ]
  },
  {
   "cell_type": "code",
   "execution_count": 244,
   "metadata": {},
   "outputs": [],
   "source": [
    "#join locationid details and the model_data\n",
    "model_data = pd.merge(model_data, locationid_data, left_on='PULocationID', right_on='LocationID')"
   ]
  },
  {
   "cell_type": "code",
   "execution_count": 246,
   "metadata": {},
   "outputs": [
    {
     "data": {
      "text/html": [
       "<div>\n",
       "<style scoped>\n",
       "    .dataframe tbody tr th:only-of-type {\n",
       "        vertical-align: middle;\n",
       "    }\n",
       "\n",
       "    .dataframe tbody tr th {\n",
       "        vertical-align: top;\n",
       "    }\n",
       "\n",
       "    .dataframe thead th {\n",
       "        text-align: right;\n",
       "    }\n",
       "</style>\n",
       "<table border=\"1\" class=\"dataframe\">\n",
       "  <thead>\n",
       "    <tr style=\"text-align: right;\">\n",
       "      <th></th>\n",
       "      <th>PULocationID</th>\n",
       "      <th>pickup_date</th>\n",
       "      <th>pickup_month</th>\n",
       "      <th>pickup_weekday</th>\n",
       "      <th>trip_type</th>\n",
       "      <th>passenger_count</th>\n",
       "      <th>trip_distance</th>\n",
       "      <th>fare_amount</th>\n",
       "      <th>tip_amount</th>\n",
       "      <th>pickupcounts</th>\n",
       "      <th>holiday</th>\n",
       "      <th>LocationID</th>\n",
       "      <th>Borough</th>\n",
       "      <th>Zone</th>\n",
       "      <th>service_zone</th>\n",
       "    </tr>\n",
       "  </thead>\n",
       "  <tbody>\n",
       "    <tr>\n",
       "      <th>0</th>\n",
       "      <td>1</td>\n",
       "      <td>2018-01-01</td>\n",
       "      <td>1</td>\n",
       "      <td>Monday</td>\n",
       "      <td>Dispatch</td>\n",
       "      <td>1</td>\n",
       "      <td>0.0</td>\n",
       "      <td>88.0</td>\n",
       "      <td>5.00</td>\n",
       "      <td>1</td>\n",
       "      <td>True</td>\n",
       "      <td>1</td>\n",
       "      <td>EWR</td>\n",
       "      <td>Newark Airport</td>\n",
       "      <td>EWR</td>\n",
       "    </tr>\n",
       "    <tr>\n",
       "      <th>1</th>\n",
       "      <td>1</td>\n",
       "      <td>2018-01-02</td>\n",
       "      <td>1</td>\n",
       "      <td>Tuesday</td>\n",
       "      <td>Street_hail</td>\n",
       "      <td>1</td>\n",
       "      <td>15.7</td>\n",
       "      <td>61.5</td>\n",
       "      <td>18.82</td>\n",
       "      <td>1</td>\n",
       "      <td>False</td>\n",
       "      <td>1</td>\n",
       "      <td>EWR</td>\n",
       "      <td>Newark Airport</td>\n",
       "      <td>EWR</td>\n",
       "    </tr>\n",
       "    <tr>\n",
       "      <th>2</th>\n",
       "      <td>1</td>\n",
       "      <td>2018-01-03</td>\n",
       "      <td>1</td>\n",
       "      <td>Wednesday</td>\n",
       "      <td>Dispatch</td>\n",
       "      <td>2</td>\n",
       "      <td>0.0</td>\n",
       "      <td>272.5</td>\n",
       "      <td>0.00</td>\n",
       "      <td>2</td>\n",
       "      <td>False</td>\n",
       "      <td>1</td>\n",
       "      <td>EWR</td>\n",
       "      <td>Newark Airport</td>\n",
       "      <td>EWR</td>\n",
       "    </tr>\n",
       "    <tr>\n",
       "      <th>3</th>\n",
       "      <td>1</td>\n",
       "      <td>2018-01-07</td>\n",
       "      <td>1</td>\n",
       "      <td>Sunday</td>\n",
       "      <td>Street_hail</td>\n",
       "      <td>1</td>\n",
       "      <td>0.0</td>\n",
       "      <td>2.5</td>\n",
       "      <td>55.00</td>\n",
       "      <td>1</td>\n",
       "      <td>False</td>\n",
       "      <td>1</td>\n",
       "      <td>EWR</td>\n",
       "      <td>Newark Airport</td>\n",
       "      <td>EWR</td>\n",
       "    </tr>\n",
       "    <tr>\n",
       "      <th>4</th>\n",
       "      <td>1</td>\n",
       "      <td>2018-01-08</td>\n",
       "      <td>1</td>\n",
       "      <td>Monday</td>\n",
       "      <td>Dispatch</td>\n",
       "      <td>6</td>\n",
       "      <td>0.0</td>\n",
       "      <td>143.0</td>\n",
       "      <td>15.60</td>\n",
       "      <td>2</td>\n",
       "      <td>False</td>\n",
       "      <td>1</td>\n",
       "      <td>EWR</td>\n",
       "      <td>Newark Airport</td>\n",
       "      <td>EWR</td>\n",
       "    </tr>\n",
       "  </tbody>\n",
       "</table>\n",
       "</div>"
      ],
      "text/plain": [
       "   PULocationID pickup_date  pickup_month pickup_weekday    trip_type  \\\n",
       "0             1  2018-01-01             1         Monday     Dispatch   \n",
       "1             1  2018-01-02             1        Tuesday  Street_hail   \n",
       "2             1  2018-01-03             1      Wednesday     Dispatch   \n",
       "3             1  2018-01-07             1         Sunday  Street_hail   \n",
       "4             1  2018-01-08             1         Monday     Dispatch   \n",
       "\n",
       "   passenger_count  trip_distance  fare_amount  tip_amount  pickupcounts  \\\n",
       "0                1            0.0         88.0        5.00             1   \n",
       "1                1           15.7         61.5       18.82             1   \n",
       "2                2            0.0        272.5        0.00             2   \n",
       "3                1            0.0          2.5       55.00             1   \n",
       "4                6            0.0        143.0       15.60             2   \n",
       "\n",
       "  holiday  LocationID Borough            Zone service_zone  \n",
       "0    True           1     EWR  Newark Airport          EWR  \n",
       "1   False           1     EWR  Newark Airport          EWR  \n",
       "2   False           1     EWR  Newark Airport          EWR  \n",
       "3   False           1     EWR  Newark Airport          EWR  \n",
       "4   False           1     EWR  Newark Airport          EWR  "
      ]
     },
     "execution_count": 246,
     "metadata": {},
     "output_type": "execute_result"
    }
   ],
   "source": [
    "#model_data.shape\n",
    "model_data.head()"
   ]
  },
  {
   "cell_type": "code",
   "execution_count": null,
   "metadata": {},
   "outputs": [],
   "source": [
    "###check whether number of rows changed after merge, it should not.\n",
    "model_data.shape"
   ]
  },
  {
   "cell_type": "code",
   "execution_count": 247,
   "metadata": {},
   "outputs": [],
   "source": [
    "#rearrange the columns in working_data\n",
    "#working_data = working_data[['PULocationID', 'pickup_date','pickup_month','pickup_weekday']]\n",
    "#remove the dispatch_triptype\n",
    "f = {'pickupcounts':'sum'}\n",
    "model_data = model_data.groupby(['PULocationID', 'pickup_date', 'pickup_month','pickup_weekday', 'holiday', 'Borough', 'Zone', 'service_zone'], as_index=False).agg(f)"
   ]
  },
  {
   "cell_type": "code",
   "execution_count": 249,
   "metadata": {},
   "outputs": [
    {
     "data": {
      "text/html": [
       "<div>\n",
       "<style scoped>\n",
       "    .dataframe tbody tr th:only-of-type {\n",
       "        vertical-align: middle;\n",
       "    }\n",
       "\n",
       "    .dataframe tbody tr th {\n",
       "        vertical-align: top;\n",
       "    }\n",
       "\n",
       "    .dataframe thead th {\n",
       "        text-align: right;\n",
       "    }\n",
       "</style>\n",
       "<table border=\"1\" class=\"dataframe\">\n",
       "  <thead>\n",
       "    <tr style=\"text-align: right;\">\n",
       "      <th></th>\n",
       "      <th>PULocationID</th>\n",
       "      <th>pickup_date</th>\n",
       "      <th>pickup_month</th>\n",
       "      <th>pickup_weekday</th>\n",
       "      <th>holiday</th>\n",
       "      <th>Borough</th>\n",
       "      <th>Zone</th>\n",
       "      <th>service_zone</th>\n",
       "      <th>pickupcounts</th>\n",
       "    </tr>\n",
       "  </thead>\n",
       "  <tbody>\n",
       "    <tr>\n",
       "      <th>30636</th>\n",
       "      <td>263</td>\n",
       "      <td>2018-05-27</td>\n",
       "      <td>5</td>\n",
       "      <td>Sunday</td>\n",
       "      <td>False</td>\n",
       "      <td>Manhattan</td>\n",
       "      <td>Yorkville West</td>\n",
       "      <td>Yellow Zone</td>\n",
       "      <td>11</td>\n",
       "    </tr>\n",
       "    <tr>\n",
       "      <th>30637</th>\n",
       "      <td>263</td>\n",
       "      <td>2018-05-28</td>\n",
       "      <td>5</td>\n",
       "      <td>Monday</td>\n",
       "      <td>True</td>\n",
       "      <td>Manhattan</td>\n",
       "      <td>Yorkville West</td>\n",
       "      <td>Yellow Zone</td>\n",
       "      <td>11</td>\n",
       "    </tr>\n",
       "    <tr>\n",
       "      <th>30638</th>\n",
       "      <td>263</td>\n",
       "      <td>2018-05-29</td>\n",
       "      <td>5</td>\n",
       "      <td>Tuesday</td>\n",
       "      <td>False</td>\n",
       "      <td>Manhattan</td>\n",
       "      <td>Yorkville West</td>\n",
       "      <td>Yellow Zone</td>\n",
       "      <td>15</td>\n",
       "    </tr>\n",
       "    <tr>\n",
       "      <th>30639</th>\n",
       "      <td>263</td>\n",
       "      <td>2018-05-30</td>\n",
       "      <td>5</td>\n",
       "      <td>Wednesday</td>\n",
       "      <td>False</td>\n",
       "      <td>Manhattan</td>\n",
       "      <td>Yorkville West</td>\n",
       "      <td>Yellow Zone</td>\n",
       "      <td>22</td>\n",
       "    </tr>\n",
       "    <tr>\n",
       "      <th>30640</th>\n",
       "      <td>263</td>\n",
       "      <td>2018-05-31</td>\n",
       "      <td>5</td>\n",
       "      <td>Thursday</td>\n",
       "      <td>False</td>\n",
       "      <td>Manhattan</td>\n",
       "      <td>Yorkville West</td>\n",
       "      <td>Yellow Zone</td>\n",
       "      <td>18</td>\n",
       "    </tr>\n",
       "  </tbody>\n",
       "</table>\n",
       "</div>"
      ],
      "text/plain": [
       "       PULocationID pickup_date  pickup_month pickup_weekday holiday  \\\n",
       "30636           263  2018-05-27             5         Sunday   False   \n",
       "30637           263  2018-05-28             5         Monday    True   \n",
       "30638           263  2018-05-29             5        Tuesday   False   \n",
       "30639           263  2018-05-30             5      Wednesday   False   \n",
       "30640           263  2018-05-31             5       Thursday   False   \n",
       "\n",
       "         Borough            Zone service_zone  pickupcounts  \n",
       "30636  Manhattan  Yorkville West  Yellow Zone            11  \n",
       "30637  Manhattan  Yorkville West  Yellow Zone            11  \n",
       "30638  Manhattan  Yorkville West  Yellow Zone            15  \n",
       "30639  Manhattan  Yorkville West  Yellow Zone            22  \n",
       "30640  Manhattan  Yorkville West  Yellow Zone            18  "
      ]
     },
     "execution_count": 249,
     "metadata": {},
     "output_type": "execute_result"
    }
   ],
   "source": [
    "model_data.tail()"
   ]
  },
  {
   "cell_type": "code",
   "execution_count": 250,
   "metadata": {},
   "outputs": [],
   "source": [
    "#save the data as csv file\n",
    "model_data.to_csv('model_data.csv', index=False)"
   ]
  },
  {
   "cell_type": "code",
   "execution_count": 135,
   "metadata": {},
   "outputs": [
    {
     "data": {
      "text/html": [
       "<div>\n",
       "<style scoped>\n",
       "    .dataframe tbody tr th:only-of-type {\n",
       "        vertical-align: middle;\n",
       "    }\n",
       "\n",
       "    .dataframe tbody tr th {\n",
       "        vertical-align: top;\n",
       "    }\n",
       "\n",
       "    .dataframe thead th {\n",
       "        text-align: right;\n",
       "    }\n",
       "</style>\n",
       "<table border=\"1\" class=\"dataframe\">\n",
       "  <thead>\n",
       "    <tr style=\"text-align: right;\">\n",
       "      <th></th>\n",
       "      <th>PULocationID</th>\n",
       "      <th>pickup_date</th>\n",
       "      <th>pickup_month</th>\n",
       "      <th>pickup_weekday</th>\n",
       "      <th>Holiday</th>\n",
       "      <th>pickupcounts</th>\n",
       "    </tr>\n",
       "  </thead>\n",
       "  <tbody>\n",
       "    <tr>\n",
       "      <th>30939</th>\n",
       "      <td>265</td>\n",
       "      <td>2018-05-27</td>\n",
       "      <td>5</td>\n",
       "      <td>Sunday</td>\n",
       "      <td>False</td>\n",
       "      <td>2</td>\n",
       "    </tr>\n",
       "    <tr>\n",
       "      <th>30940</th>\n",
       "      <td>265</td>\n",
       "      <td>2018-05-28</td>\n",
       "      <td>5</td>\n",
       "      <td>Monday</td>\n",
       "      <td>False</td>\n",
       "      <td>3</td>\n",
       "    </tr>\n",
       "    <tr>\n",
       "      <th>30941</th>\n",
       "      <td>265</td>\n",
       "      <td>2018-05-29</td>\n",
       "      <td>5</td>\n",
       "      <td>Tuesday</td>\n",
       "      <td>False</td>\n",
       "      <td>7</td>\n",
       "    </tr>\n",
       "    <tr>\n",
       "      <th>30942</th>\n",
       "      <td>265</td>\n",
       "      <td>2018-05-30</td>\n",
       "      <td>5</td>\n",
       "      <td>Wednesday</td>\n",
       "      <td>False</td>\n",
       "      <td>3</td>\n",
       "    </tr>\n",
       "    <tr>\n",
       "      <th>30943</th>\n",
       "      <td>265</td>\n",
       "      <td>2018-05-31</td>\n",
       "      <td>5</td>\n",
       "      <td>Thursday</td>\n",
       "      <td>False</td>\n",
       "      <td>2</td>\n",
       "    </tr>\n",
       "  </tbody>\n",
       "</table>\n",
       "</div>"
      ],
      "text/plain": [
       "       PULocationID pickup_date  pickup_month pickup_weekday  Holiday  \\\n",
       "30939           265  2018-05-27             5         Sunday    False   \n",
       "30940           265  2018-05-28             5         Monday    False   \n",
       "30941           265  2018-05-29             5        Tuesday    False   \n",
       "30942           265  2018-05-30             5      Wednesday    False   \n",
       "30943           265  2018-05-31             5       Thursday    False   \n",
       "\n",
       "       pickupcounts  \n",
       "30939             2  \n",
       "30940             3  \n",
       "30941             7  \n",
       "30942             3  \n",
       "30943             2  "
      ]
     },
     "execution_count": 135,
     "metadata": {},
     "output_type": "execute_result"
    }
   ],
   "source": [
    "#here the number of rows should change after groupby\n",
    "#model_data.shape\n",
    "model_data.tail()"
   ]
  },
  {
   "cell_type": "code",
   "execution_count": 251,
   "metadata": {},
   "outputs": [
    {
     "data": {
      "text/plain": [
       "count    30641.000000\n",
       "mean       130.299305\n",
       "std        286.848304\n",
       "min          1.000000\n",
       "25%          6.000000\n",
       "50%         24.000000\n",
       "75%         84.000000\n",
       "max       2261.000000\n",
       "Name: pickupcounts, dtype: float64"
      ]
     },
     "execution_count": 251,
     "metadata": {},
     "output_type": "execute_result"
    }
   ],
   "source": [
    "model_data['pickupcounts'].describe()"
   ]
  },
  {
   "cell_type": "code",
   "execution_count": 253,
   "metadata": {},
   "outputs": [
    {
     "data": {
      "image/png": "[encoded data removed]",
      "text/plain": [
       "<Figure size 720x720 with 1 Axes>"
      ]
     },
     "metadata": {},
     "output_type": "display_data"
    }
   ],
   "source": [
    "%matplotlib inline\n",
    "\n",
    "import matplotlib\n",
    "import numpy as np\n",
    "import matplotlib.pyplot as plt\n",
    "\n",
    "plt.figure(figsize=(10,10))\n",
    "plt.scatter(range(len(model_data[\"pickupcounts\"])), np.sort(model_data[\"pickupcounts\"]))\n",
    "plt.xlabel('index')\n",
    "plt.ylabel('pickupcounts per day')\n",
    "plt.show()"
   ]
  },
  {
   "cell_type": "code",
   "execution_count": 254,
   "metadata": {},
   "outputs": [
    {
     "data": {
      "text/html": [
       "<div>\n",
       "<style scoped>\n",
       "    .dataframe tbody tr th:only-of-type {\n",
       "        vertical-align: middle;\n",
       "    }\n",
       "\n",
       "    .dataframe tbody tr th {\n",
       "        vertical-align: top;\n",
       "    }\n",
       "\n",
       "    .dataframe thead th {\n",
       "        text-align: right;\n",
       "    }\n",
       "</style>\n",
       "<table border=\"1\" class=\"dataframe\">\n",
       "  <thead>\n",
       "    <tr style=\"text-align: right;\">\n",
       "      <th></th>\n",
       "      <th>PULocationID</th>\n",
       "      <th>pickup_date</th>\n",
       "      <th>pickup_month</th>\n",
       "      <th>pickup_weekday</th>\n",
       "      <th>holiday</th>\n",
       "      <th>Borough</th>\n",
       "      <th>Zone</th>\n",
       "      <th>service_zone</th>\n",
       "      <th>pickupcounts</th>\n",
       "    </tr>\n",
       "  </thead>\n",
       "  <tbody>\n",
       "    <tr>\n",
       "      <th>0</th>\n",
       "      <td>1</td>\n",
       "      <td>2018-01-01</td>\n",
       "      <td>1</td>\n",
       "      <td>Monday</td>\n",
       "      <td>True</td>\n",
       "      <td>EWR</td>\n",
       "      <td>Newark Airport</td>\n",
       "      <td>EWR</td>\n",
       "      <td>1</td>\n",
       "    </tr>\n",
       "    <tr>\n",
       "      <th>1</th>\n",
       "      <td>1</td>\n",
       "      <td>2018-01-02</td>\n",
       "      <td>1</td>\n",
       "      <td>Tuesday</td>\n",
       "      <td>False</td>\n",
       "      <td>EWR</td>\n",
       "      <td>Newark Airport</td>\n",
       "      <td>EWR</td>\n",
       "      <td>1</td>\n",
       "    </tr>\n",
       "    <tr>\n",
       "      <th>2</th>\n",
       "      <td>1</td>\n",
       "      <td>2018-01-03</td>\n",
       "      <td>1</td>\n",
       "      <td>Wednesday</td>\n",
       "      <td>False</td>\n",
       "      <td>EWR</td>\n",
       "      <td>Newark Airport</td>\n",
       "      <td>EWR</td>\n",
       "      <td>2</td>\n",
       "    </tr>\n",
       "    <tr>\n",
       "      <th>3</th>\n",
       "      <td>1</td>\n",
       "      <td>2018-01-07</td>\n",
       "      <td>1</td>\n",
       "      <td>Sunday</td>\n",
       "      <td>False</td>\n",
       "      <td>EWR</td>\n",
       "      <td>Newark Airport</td>\n",
       "      <td>EWR</td>\n",
       "      <td>1</td>\n",
       "    </tr>\n",
       "    <tr>\n",
       "      <th>4</th>\n",
       "      <td>1</td>\n",
       "      <td>2018-01-08</td>\n",
       "      <td>1</td>\n",
       "      <td>Monday</td>\n",
       "      <td>False</td>\n",
       "      <td>EWR</td>\n",
       "      <td>Newark Airport</td>\n",
       "      <td>EWR</td>\n",
       "      <td>2</td>\n",
       "    </tr>\n",
       "  </tbody>\n",
       "</table>\n",
       "</div>"
      ],
      "text/plain": [
       "   PULocationID pickup_date  pickup_month pickup_weekday holiday Borough  \\\n",
       "0             1  2018-01-01             1         Monday    True     EWR   \n",
       "1             1  2018-01-02             1        Tuesday   False     EWR   \n",
       "2             1  2018-01-03             1      Wednesday   False     EWR   \n",
       "3             1  2018-01-07             1         Sunday   False     EWR   \n",
       "4             1  2018-01-08             1         Monday   False     EWR   \n",
       "\n",
       "             Zone service_zone  pickupcounts  \n",
       "0  Newark Airport          EWR             1  \n",
       "1  Newark Airport          EWR             1  \n",
       "2  Newark Airport          EWR             2  \n",
       "3  Newark Airport          EWR             1  \n",
       "4  Newark Airport          EWR             2  "
      ]
     },
     "execution_count": 254,
     "metadata": {},
     "output_type": "execute_result"
    }
   ],
   "source": [
    "model_data.head()"
   ]
  },
  {
   "cell_type": "code",
   "execution_count": 257,
   "metadata": {},
   "outputs": [],
   "source": [
    "#removed rows for EWR and Unknown since they are not locations in NewYork and very low pickup counts\n",
    "trunc_modeldata = model_data[~model_data.Borough.str.contains(\"EWR\")]"
   ]
  },
  {
   "cell_type": "code",
   "execution_count": 259,
   "metadata": {},
   "outputs": [],
   "source": [
    "trunc_modeldata = trunc_modeldata[~trunc_modeldata.Borough.str.contains(\"Unknown\")]"
   ]
  },
  {
   "cell_type": "code",
   "execution_count": 260,
   "metadata": {},
   "outputs": [
    {
     "data": {
      "text/html": [
       "<div>\n",
       "<style scoped>\n",
       "    .dataframe tbody tr th:only-of-type {\n",
       "        vertical-align: middle;\n",
       "    }\n",
       "\n",
       "    .dataframe tbody tr th {\n",
       "        vertical-align: top;\n",
       "    }\n",
       "\n",
       "    .dataframe thead th {\n",
       "        text-align: right;\n",
       "    }\n",
       "</style>\n",
       "<table border=\"1\" class=\"dataframe\">\n",
       "  <thead>\n",
       "    <tr style=\"text-align: right;\">\n",
       "      <th></th>\n",
       "      <th>PULocationID</th>\n",
       "      <th>pickup_date</th>\n",
       "      <th>pickup_month</th>\n",
       "      <th>pickup_weekday</th>\n",
       "      <th>holiday</th>\n",
       "      <th>Borough</th>\n",
       "      <th>Zone</th>\n",
       "      <th>service_zone</th>\n",
       "      <th>pickupcounts</th>\n",
       "    </tr>\n",
       "  </thead>\n",
       "  <tbody>\n",
       "    <tr>\n",
       "      <th>42</th>\n",
       "      <td>2</td>\n",
       "      <td>2018-05-23</td>\n",
       "      <td>5</td>\n",
       "      <td>Wednesday</td>\n",
       "      <td>False</td>\n",
       "      <td>Queens</td>\n",
       "      <td>Jamaica Bay</td>\n",
       "      <td>Boro Zone</td>\n",
       "      <td>1</td>\n",
       "    </tr>\n",
       "    <tr>\n",
       "      <th>43</th>\n",
       "      <td>3</td>\n",
       "      <td>2018-01-01</td>\n",
       "      <td>1</td>\n",
       "      <td>Monday</td>\n",
       "      <td>True</td>\n",
       "      <td>Bronx</td>\n",
       "      <td>Allerton/Pelham Gardens</td>\n",
       "      <td>Boro Zone</td>\n",
       "      <td>3</td>\n",
       "    </tr>\n",
       "    <tr>\n",
       "      <th>44</th>\n",
       "      <td>3</td>\n",
       "      <td>2018-01-02</td>\n",
       "      <td>1</td>\n",
       "      <td>Tuesday</td>\n",
       "      <td>False</td>\n",
       "      <td>Bronx</td>\n",
       "      <td>Allerton/Pelham Gardens</td>\n",
       "      <td>Boro Zone</td>\n",
       "      <td>13</td>\n",
       "    </tr>\n",
       "    <tr>\n",
       "      <th>45</th>\n",
       "      <td>3</td>\n",
       "      <td>2018-01-03</td>\n",
       "      <td>1</td>\n",
       "      <td>Wednesday</td>\n",
       "      <td>False</td>\n",
       "      <td>Bronx</td>\n",
       "      <td>Allerton/Pelham Gardens</td>\n",
       "      <td>Boro Zone</td>\n",
       "      <td>17</td>\n",
       "    </tr>\n",
       "    <tr>\n",
       "      <th>46</th>\n",
       "      <td>3</td>\n",
       "      <td>2018-01-04</td>\n",
       "      <td>1</td>\n",
       "      <td>Thursday</td>\n",
       "      <td>False</td>\n",
       "      <td>Bronx</td>\n",
       "      <td>Allerton/Pelham Gardens</td>\n",
       "      <td>Boro Zone</td>\n",
       "      <td>2</td>\n",
       "    </tr>\n",
       "  </tbody>\n",
       "</table>\n",
       "</div>"
      ],
      "text/plain": [
       "    PULocationID pickup_date  pickup_month pickup_weekday holiday Borough  \\\n",
       "42             2  2018-05-23             5      Wednesday   False  Queens   \n",
       "43             3  2018-01-01             1         Monday    True   Bronx   \n",
       "44             3  2018-01-02             1        Tuesday   False   Bronx   \n",
       "45             3  2018-01-03             1      Wednesday   False   Bronx   \n",
       "46             3  2018-01-04             1       Thursday   False   Bronx   \n",
       "\n",
       "                       Zone service_zone  pickupcounts  \n",
       "42              Jamaica Bay    Boro Zone             1  \n",
       "43  Allerton/Pelham Gardens    Boro Zone             3  \n",
       "44  Allerton/Pelham Gardens    Boro Zone            13  \n",
       "45  Allerton/Pelham Gardens    Boro Zone            17  \n",
       "46  Allerton/Pelham Gardens    Boro Zone             2  "
      ]
     },
     "execution_count": 260,
     "metadata": {},
     "output_type": "execute_result"
    }
   ],
   "source": [
    "trunc_modeldata.head()"
   ]
  },
  {
   "cell_type": "code",
   "execution_count": 261,
   "metadata": {},
   "outputs": [
    {
     "data": {
      "text/plain": [
       "(30599, 9)"
      ]
     },
     "execution_count": 261,
     "metadata": {},
     "output_type": "execute_result"
    }
   ],
   "source": [
    "trunc_modeldata.shape"
   ]
  },
  {
   "cell_type": "code",
   "execution_count": 263,
   "metadata": {},
   "outputs": [
    {
     "data": {
      "text/plain": [
       "count    30599.000000\n",
       "mean       130.476355\n",
       "std        287.005266\n",
       "min          1.000000\n",
       "25%          6.000000\n",
       "50%         24.000000\n",
       "75%         84.000000\n",
       "max       2261.000000\n",
       "Name: pickupcounts, dtype: float64"
      ]
     },
     "execution_count": 263,
     "metadata": {},
     "output_type": "execute_result"
    }
   ],
   "source": [
    "trunc_modeldata['pickupcounts'].describe()"
   ]
  },
  {
   "cell_type": "code",
   "execution_count": null,
   "metadata": {},
   "outputs": [],
   "source": [
    "#use it only if required\n",
    "'''# keep only the ones that are within +3 to -3 standard deviations in the column 'Data'.\n",
    "#df[np.abs(df.Data-df.Data.mean()) <= (3*df.Data.std())]\n",
    "\n",
    "#keep only those have more than 50 pickups/day\n",
    "#trunc_data = data[data['pickupcounts'] > 50] \n",
    "\n",
    "#drop rows with trip type column value Dispatch \n",
    "#trunc_data = data[~data.trip_type.str.contains('Dispatch')]\n",
    "#remove location #s 1, 264, 265(unknowns),5,6,23,44,84,99,109,110,115,118,156,172,176,187,204,206,214,221,245,251(statenisland)\n",
    "#df = df[df.line_race != 0]\n",
    "#s = {1,264,265,5,6,23,44,84,99,109,110,115,118,156,172,176,187,204,206,214,221,245,251}\n",
    "\n",
    "trunc_data = data[data.PULocationID != 1]\n",
    "\n",
    "\n",
    "trunc_data = data[data['pickupcounts'] > 300]\n",
    "trunc_data = trunc_data[trunc_data['pickupcounts'] < 2000]'''"
   ]
  },
  {
   "cell_type": "code",
   "execution_count": null,
   "metadata": {},
   "outputs": [],
   "source": [
    "#only if required\n",
    "# trunc_data.head()"
   ]
  },
  {
   "cell_type": "code",
   "execution_count": 264,
   "metadata": {},
   "outputs": [],
   "source": [
    "trunc_modeldata.to_csv('trunc_modeldata.csv', index=False)"
   ]
  },
  {
   "cell_type": "code",
   "execution_count": null,
   "metadata": {},
   "outputs": [],
   "source": []
  },
  {
   "cell_type": "code",
   "execution_count": null,
   "metadata": {},
   "outputs": [],
   "source": []
  },
  {
   "cell_type": "code",
   "execution_count": null,
   "metadata": {},
   "outputs": [],
   "source": []
  },
  {
   "cell_type": "code",
   "execution_count": null,
   "metadata": {},
   "outputs": [],
   "source": []
  },
  {
   "cell_type": "markdown",
   "metadata": {},
   "source": [
    "### dataprocessing of forecastdatajune2018"
   ]
  },
  {
   "cell_type": "code",
   "execution_count": null,
   "metadata": {},
   "outputs": [],
   "source": []
  }
 ],
 "metadata": {
  "kernelspec": {
   "display_name": "Python 3",
   "language": "python",
   "name": "python3"
  },
  "language_info": {
   "codemirror_mode": {
    "name": "ipython",
    "version": 3
   },
   "file_extension": ".py",
   "mimetype": "text/x-python",
   "name": "python",
   "nbconvert_exporter": "python",
   "pygments_lexer": "ipython3",
   "version": "3.6.4"
  }
 },
 "nbformat": 4,
 "nbformat_minor": 2
}
